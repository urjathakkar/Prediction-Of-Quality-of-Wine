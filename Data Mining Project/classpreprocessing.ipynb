{
 "cells": [
  {
   "cell_type": "code",
   "execution_count": 1,
   "metadata": {},
   "outputs": [],
   "source": [
    "import pandas as pd\n",
    "import numpy as np  \n",
    "import pandas as pd  \n",
    "from apyori import apriori \n",
    "import csv"
   ]
  },
  {
   "cell_type": "code",
   "execution_count": 104,
   "metadata": {},
   "outputs": [
    {
     "name": "stdout",
     "output_type": "stream",
     "text": [
      "['quality']\n",
      "[2]\n",
      "[0]\n",
      "[0]\n",
      "[1]\n",
      "[0]\n",
      "[1]\n",
      "[2]\n",
      "[0]\n",
      "[1]\n",
      "[0]\n",
      "[0]\n",
      "[0]\n",
      "[0]\n",
      "[0]\n",
      "[0]\n",
      "[0]\n",
      "[1]\n",
      "[1]\n",
      "[0]\n",
      "[0]\n",
      "[1]\n",
      "[1]\n",
      "[1]\n",
      "[0]\n",
      "[1]\n",
      "[1]\n",
      "[1]\n",
      "[1]\n",
      "[1]\n",
      "[1]\n",
      "[0]\n",
      "[1]\n",
      "[0]\n",
      "[0]\n",
      "[0]\n",
      "[2]\n",
      "[1]\n",
      "[1]\n",
      "[1]\n",
      "[1]\n",
      "[0]\n",
      "[1]\n",
      "[1]\n",
      "[1]\n",
      "[1]\n",
      "[0]\n",
      "[1]\n",
      "[1]\n",
      "[0]\n",
      "[1]\n"
     ]
    }
   ],
   "source": [
    "final_values=[]\n",
    "arr1=['0','1','2','3','4','5']\n",
    "arr2=['6']\n",
    "arr3=['7','8','9','10']\n",
    "f=['alcohol.csv','alcohol_test.csv','chlorides.csv','chlorides_test.csv','citric_acid.csv','citric_acid_test.csv','density.csv','density_test.csv','fixed_acidity.csv','fixed_acidity_test.csv','freesulfurdioxide.csv','freesulphur_test.csv','ph.csv','ph_test.csv','residual_sugar.csv','residual_sugar_test.csv','sulphates.csv','sulphates_test.csv','total_sulfurdioxide.csv','total_sulfurdioxide_test.csv','volatile_acidity.csv','volatile_Acidity_test.csv']\n",
    "with open('C:\\\\Users\\\\Urja Thakkar\\\\Downloads\\\\trial\\\\final.csv' ,'r') as f:\n",
    "    reader = csv.reader(f)\n",
    "    lines = list(reader)\n",
    "    for i in lines:\n",
    "        if(i[0] in arr1):\n",
    "            i[0]=0\n",
    "        elif(i[0] in arr2):\n",
    "            i[0]=1\n",
    "        elif(i[0] in arr3):\n",
    "            i[0]=2\n",
    "        print(i)\n",
    "with open('C:\\\\Users\\\\Urja Thakkar\\\\Downloads\\\\trial\\\\final.csv', 'w') as writeFile:\n",
    "    writer = csv.writer(writeFile)\n",
    "    writer.writerows(lines)"
   ]
  },
  {
   "cell_type": "code",
   "execution_count": null,
   "metadata": {},
   "outputs": [],
   "source": []
  }
 ],
 "metadata": {
  "kernelspec": {
   "display_name": "Python 3",
   "language": "python",
   "name": "python3"
  },
  "language_info": {
   "codemirror_mode": {
    "name": "ipython",
    "version": 3
   },
   "file_extension": ".py",
   "mimetype": "text/x-python",
   "name": "python",
   "nbconvert_exporter": "python",
   "pygments_lexer": "ipython3",
   "version": "3.7.3"
  }
 },
 "nbformat": 4,
 "nbformat_minor": 2
}
